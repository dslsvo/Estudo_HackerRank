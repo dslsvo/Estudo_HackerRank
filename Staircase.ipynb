{
 "cells": [
  {
   "cell_type": "markdown",
   "id": "e1bbf4d1",
   "metadata": {},
   "source": [
    "<B>DESAFIO HACKERRANK - STAIRCASE</B>"
   ]
  },
  {
   "cell_type": "markdown",
   "id": "0aeb24a8",
   "metadata": {},
   "source": [
    "<b> Disponível em:</b> https://www.hackerrank.com/challenges/staircase/problem?h_r=internal-search"
   ]
  },
  {
   "cell_type": "markdown",
   "id": "9f9f00d4",
   "metadata": {},
   "source": [
    "<B>OBJETIVO</B>: "
   ]
  },
  {
   "cell_type": "raw",
   "id": "d2302eef",
   "metadata": {},
   "source": [
    "Esta é uma escadaria de tamanho n=4:\n",
    "\n",
    "   #\n",
    "  ##\n",
    " ###\n",
    "####\n",
    "\n",
    "Sua base e altura são iguais a n. Ele é desenhado usando # (símbolos) e espaços. A última linha não é precedida por nenhum espaço.\n",
    "Escreva um programa que imprima uma escada de tamanho n."
   ]
  },
  {
   "cell_type": "markdown",
   "id": "fee0d54c",
   "metadata": {},
   "source": [
    "<B>CÓDIGO</B>"
   ]
  },
  {
   "cell_type": "code",
   "execution_count": 56,
   "id": "a593c478",
   "metadata": {},
   "outputs": [],
   "source": [
    "def staircase(n):                       #Cria a função para entrada n\n",
    "    for i in range (1,n+1):             #cria um loop for para percorrer de 1 até n+1\n",
    "        if (n-1-i) < 0:                 #cria uma operador if para que quando n-1-i for menor que zero atenda a condição abaixo.\n",
    "            print(i*'#')                #printa i*'#' para preenchimento da staircase com # |USADO NA BASE PARA PREECHIMENTO APENAS COM '#'\n",
    "        else:                           #caso a condição do if não seja atendida, execute o comando abaixo\n",
    "            print((n-1-i)*' ',i*'#')    #printa (n-1-i)*' ' para preechimento de espaços e i*'#' para preenchimento de \"#\" |USADO NOS DEMAIS NÍVEIS ALÉM DA BASE PARA PREENCHIMENTO COM ESPAÇOS+#"
   ]
  },
  {
   "cell_type": "markdown",
   "id": "34fa45b1",
   "metadata": {},
   "source": [
    "<B>ENTRADAS</B>"
   ]
  },
  {
   "cell_type": "code",
   "execution_count": 57,
   "id": "a3ce10a7",
   "metadata": {},
   "outputs": [],
   "source": [
    "n=5 #Insere tamanho da escadaria"
   ]
  },
  {
   "cell_type": "markdown",
   "id": "6b364578",
   "metadata": {},
   "source": [
    "<B> SAÍDAS </B>"
   ]
  },
  {
   "cell_type": "code",
   "execution_count": 58,
   "id": "392538b2",
   "metadata": {},
   "outputs": [
    {
     "name": "stdout",
     "output_type": "stream",
     "text": [
      "    #\n",
      "   ##\n",
      "  ###\n",
      " ####\n",
      "#####\n"
     ]
    }
   ],
   "source": [
    "staircase(n) #printa a solução da função staircase"
   ]
  }
 ],
 "metadata": {
  "kernelspec": {
   "display_name": "Python 3 (ipykernel)",
   "language": "python",
   "name": "python3"
  },
  "language_info": {
   "codemirror_mode": {
    "name": "ipython",
    "version": 3
   },
   "file_extension": ".py",
   "mimetype": "text/x-python",
   "name": "python",
   "nbconvert_exporter": "python",
   "pygments_lexer": "ipython3",
   "version": "3.9.7"
  }
 },
 "nbformat": 4,
 "nbformat_minor": 5
}
