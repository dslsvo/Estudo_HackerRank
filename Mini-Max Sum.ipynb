{
 "cells": [
  {
   "cell_type": "markdown",
   "id": "d65a5126",
   "metadata": {},
   "source": [
    "<B>DESAFIO HACKERRANK - MINI-MAX-SUM</B>"
   ]
  },
  {
   "cell_type": "markdown",
   "id": "44ae19c0",
   "metadata": {},
   "source": [
    "<b> Disponível em:</b> https://www.hackerrank.com/challenges/mini-max-sum/problem"
   ]
  },
  {
   "cell_type": "markdown",
   "id": "6fa9668a",
   "metadata": {},
   "source": [
    "<B>OBJETIVO</B>: \n",
    "Dados cinco inteiros positivos, encontre os valores mínimo e máximo que podem ser calculados somando exatamente quatro dos cinco inteiros. Em seguida, imprima os respectivos valores mínimo e máximo como uma única linha de dois inteiros longos separados por espaço."
   ]
  },
  {
   "cell_type": "markdown",
   "id": "3aefe0b7",
   "metadata": {},
   "source": [
    "<B>CÓDIGO</B>"
   ]
  },
  {
   "cell_type": "code",
   "execution_count": 44,
   "id": "3dc5b367",
   "metadata": {},
   "outputs": [],
   "source": [
    "def miniMaxSum (arr): #Cria a função\n",
    "    n=len(arr) #cria a variável n = número de elementos do array\n",
    "    arr.sort() #ordena o array\n",
    "    min=sum(arr[:n-1]) # realiza a soma dos 4 primeiros números, no array ordenado, obtendo a soma mínima\n",
    "    max=sum(arr[1:n]) # realiza a soma dos 4 últimos números, no array ordenado, obtendo a soma máxima\n",
    "    print(min, max) # printa, conforme solicitado 'num1 num2', separado por espaço, a soma mínima e máxima "
   ]
  },
  {
   "cell_type": "markdown",
   "id": "3d45467a",
   "metadata": {},
   "source": [
    "<B>ENTRADAS</B>"
   ]
  },
  {
   "cell_type": "code",
   "execution_count": 45,
   "id": "42e8b590",
   "metadata": {},
   "outputs": [],
   "source": [
    "arr=[2,3,4,100,6] #Insere valores no array"
   ]
  },
  {
   "cell_type": "markdown",
   "id": "fb6f5b28",
   "metadata": {},
   "source": [
    "<B> SAÍDAS </B>"
   ]
  },
  {
   "cell_type": "code",
   "execution_count": 46,
   "id": "2cff968d",
   "metadata": {},
   "outputs": [
    {
     "name": "stdout",
     "output_type": "stream",
     "text": [
      "15 113\n"
     ]
    }
   ],
   "source": [
    "miniMaxSum(arr) #printa a solução da função miniMaxSum"
   ]
  }
 ],
 "metadata": {
  "kernelspec": {
   "display_name": "Python 3 (ipykernel)",
   "language": "python",
   "name": "python3"
  },
  "language_info": {
   "codemirror_mode": {
    "name": "ipython",
    "version": 3
   },
   "file_extension": ".py",
   "mimetype": "text/x-python",
   "name": "python",
   "nbconvert_exporter": "python",
   "pygments_lexer": "ipython3",
   "version": "3.9.7"
  }
 },
 "nbformat": 4,
 "nbformat_minor": 5
}
