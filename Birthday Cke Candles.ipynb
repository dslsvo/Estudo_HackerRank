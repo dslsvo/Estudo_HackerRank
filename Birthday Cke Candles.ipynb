{
 "cells": [
  {
   "cell_type": "markdown",
   "id": "c49ef903",
   "metadata": {},
   "source": [
    "<b>DESAFIO HACKERRANK - BIRTHDAY CAKE CANDLES</b>"
   ]
  },
  {
   "cell_type": "markdown",
   "id": "38f18a8b",
   "metadata": {},
   "source": [
    "<b> Disponível em:</b> https://www.hackerrank.com/challenges/birthday-cake-candles/problem"
   ]
  },
  {
   "cell_type": "markdown",
   "id": "c72b4e68",
   "metadata": {},
   "source": [
    "<B>OBJETIVO</B>: \n",
    "Você é responsável pelo bolo para o aniversário de uma criança. Você decidiu que o bolo terá uma vela para cada ano de sua idade total. Eles só serão capazes de soprar as velas mais altas. Conte quantas velas são mais altas."
   ]
  },
  {
   "cell_type": "markdown",
   "id": "e0da4635",
   "metadata": {},
   "source": [
    "<B>CÓDIGO</B>"
   ]
  },
  {
   "cell_type": "code",
   "execution_count": 24,
   "id": "b966b46c",
   "metadata": {},
   "outputs": [],
   "source": [
    "def birthdayCakeCandles(candles): #Cria a função\n",
    "    n = len(candles) #cria a variável n = número de elementos da lista\n",
    "    Max = max(candles) #Cria a variável Max = maior número da lista\n",
    "    tallests = candles.count(Max) #Cria a variável tallest. Nesta variável, a função count (Max) conta quantas vezes a variável Max (definida acima) aparece\n",
    "    return(tallests) #retorna a variável tallets = vezes em que o maior número se repete"
   ]
  },
  {
   "cell_type": "markdown",
   "id": "ed3f782b",
   "metadata": {},
   "source": [
    "<B>ENTRADA</B>"
   ]
  },
  {
   "cell_type": "code",
   "execution_count": 25,
   "id": "ea0e52ab",
   "metadata": {},
   "outputs": [],
   "source": [
    "candles = [1,3,4,5,6,1,23,23,23,23,23,23,4,5] #Insere valores na lista"
   ]
  },
  {
   "cell_type": "markdown",
   "id": "31ca90f9",
   "metadata": {},
   "source": [
    "<B>SAÍDA</B>"
   ]
  },
  {
   "cell_type": "code",
   "execution_count": 26,
   "id": "dcefcd53",
   "metadata": {},
   "outputs": [
    {
     "data": {
      "text/plain": [
       "6"
      ]
     },
     "execution_count": 26,
     "metadata": {},
     "output_type": "execute_result"
    }
   ],
   "source": [
    "birthdayCakeCandles(candles) #mostra a solução da função birthdayCakeCandles"
   ]
  }
 ],
 "metadata": {
  "kernelspec": {
   "display_name": "Python 3 (ipykernel)",
   "language": "python",
   "name": "python3"
  },
  "language_info": {
   "codemirror_mode": {
    "name": "ipython",
    "version": 3
   },
   "file_extension": ".py",
   "mimetype": "text/x-python",
   "name": "python",
   "nbconvert_exporter": "python",
   "pygments_lexer": "ipython3",
   "version": "3.9.7"
  }
 },
 "nbformat": 4,
 "nbformat_minor": 5
}
